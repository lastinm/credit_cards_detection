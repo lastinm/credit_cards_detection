{
 "cells": [
  {
   "cell_type": "code",
   "execution_count": 1,
   "id": "7f48191c",
   "metadata": {},
   "outputs": [
    {
     "name": "stderr",
     "output_type": "stream",
     "text": [
      "/home/lastinm/PROJECTS/credit_cards_detection/.venv/lib/python3.11/site-packages/tqdm/auto.py:21: TqdmWarning: IProgress not found. Please update jupyter and ipywidgets. See https://ipywidgets.readthedocs.io/en/stable/user_install.html\n",
      "  from .autonotebook import tqdm as notebook_tqdm\n",
      "2025-05-09 21:07:13.400333: I tensorflow/core/util/port.cc:113] oneDNN custom operations are on. You may see slightly different numerical results due to floating-point round-off errors from different computation orders. To turn them off, set the environment variable `TF_ENABLE_ONEDNN_OPTS=0`.\n",
      "2025-05-09 21:07:13.424716: E external/local_xla/xla/stream_executor/cuda/cuda_dnn.cc:9261] Unable to register cuDNN factory: Attempting to register factory for plugin cuDNN when one has already been registered\n",
      "2025-05-09 21:07:13.424740: E external/local_xla/xla/stream_executor/cuda/cuda_fft.cc:607] Unable to register cuFFT factory: Attempting to register factory for plugin cuFFT when one has already been registered\n",
      "2025-05-09 21:07:13.425358: E external/local_xla/xla/stream_executor/cuda/cuda_blas.cc:1515] Unable to register cuBLAS factory: Attempting to register factory for plugin cuBLAS when one has already been registered\n",
      "2025-05-09 21:07:13.429615: I tensorflow/core/platform/cpu_feature_guard.cc:182] This TensorFlow binary is optimized to use available CPU instructions in performance-critical operations.\n",
      "To enable the following instructions: AVX2 AVX_VNNI FMA, in other operations, rebuild TensorFlow with the appropriate compiler flags.\n",
      "2025-05-09 21:07:14.287440: W tensorflow/compiler/tf2tensorrt/utils/py_utils.cc:38] TF-TRT Warning: Could not find TensorRT\n"
     ]
    }
   ],
   "source": [
    "from transformers import TrOCRProcessor, VisionEncoderDecoderModel\n",
    "import torch\n",
    "from PIL import Image\n",
    "import cv2\n",
    "import numpy as np"
   ]
  },
  {
   "cell_type": "code",
   "execution_count": 2,
   "id": "7c868a1b",
   "metadata": {},
   "outputs": [
    {
     "name": "stderr",
     "output_type": "stream",
     "text": [
      "Using a slow image processor as `use_fast` is unset and a slow processor was saved with this model. `use_fast=True` will be the default behavior in v4.52, even if the model was saved with a slow processor. This will result in minor differences in outputs. You'll still be able to use a slow processor with `use_fast=False`.\n",
      "Config of the encoder: <class 'transformers.models.vit.modeling_vit.ViTModel'> is overwritten by shared encoder config: ViTConfig {\n",
      "  \"attention_probs_dropout_prob\": 0.0,\n",
      "  \"encoder_stride\": 16,\n",
      "  \"hidden_act\": \"gelu\",\n",
      "  \"hidden_dropout_prob\": 0.0,\n",
      "  \"hidden_size\": 768,\n",
      "  \"image_size\": 384,\n",
      "  \"initializer_range\": 0.02,\n",
      "  \"intermediate_size\": 3072,\n",
      "  \"layer_norm_eps\": 1e-12,\n",
      "  \"model_type\": \"vit\",\n",
      "  \"num_attention_heads\": 12,\n",
      "  \"num_channels\": 3,\n",
      "  \"num_hidden_layers\": 12,\n",
      "  \"patch_size\": 16,\n",
      "  \"pooler_act\": \"tanh\",\n",
      "  \"pooler_output_size\": 768,\n",
      "  \"qkv_bias\": false,\n",
      "  \"torch_dtype\": \"float32\",\n",
      "  \"transformers_version\": \"4.51.3\"\n",
      "}\n",
      "\n",
      "Config of the decoder: <class 'transformers.models.trocr.modeling_trocr.TrOCRForCausalLM'> is overwritten by shared decoder config: TrOCRConfig {\n",
      "  \"activation_dropout\": 0.0,\n",
      "  \"activation_function\": \"gelu\",\n",
      "  \"add_cross_attention\": true,\n",
      "  \"attention_dropout\": 0.0,\n",
      "  \"bos_token_id\": 0,\n",
      "  \"classifier_dropout\": 0.0,\n",
      "  \"cross_attention_hidden_size\": 768,\n",
      "  \"d_model\": 1024,\n",
      "  \"decoder_attention_heads\": 16,\n",
      "  \"decoder_ffn_dim\": 4096,\n",
      "  \"decoder_layerdrop\": 0.0,\n",
      "  \"decoder_layers\": 12,\n",
      "  \"decoder_start_token_id\": 2,\n",
      "  \"dropout\": 0.1,\n",
      "  \"eos_token_id\": 2,\n",
      "  \"init_std\": 0.02,\n",
      "  \"is_decoder\": true,\n",
      "  \"layernorm_embedding\": true,\n",
      "  \"max_position_embeddings\": 512,\n",
      "  \"model_type\": \"trocr\",\n",
      "  \"pad_token_id\": 1,\n",
      "  \"scale_embedding\": false,\n",
      "  \"torch_dtype\": \"float32\",\n",
      "  \"transformers_version\": \"4.51.3\",\n",
      "  \"use_cache\": false,\n",
      "  \"use_learned_position_embeddings\": true,\n",
      "  \"vocab_size\": 50265\n",
      "}\n",
      "\n",
      "Some weights of VisionEncoderDecoderModel were not initialized from the model checkpoint at microsoft/trocr-base-printed and are newly initialized: ['encoder.pooler.dense.bias', 'encoder.pooler.dense.weight']\n",
      "You should probably TRAIN this model on a down-stream task to be able to use it for predictions and inference.\n"
     ]
    }
   ],
   "source": [
    "# 1. Загрузка модели и процессора\n",
    "processor = TrOCRProcessor.from_pretrained(\"microsoft/trocr-base-printed\")\n",
    "model = VisionEncoderDecoderModel.from_pretrained(\"microsoft/trocr-base-printed\")"
   ]
  },
  {
   "cell_type": "code",
   "execution_count": 3,
   "id": "42e4645e",
   "metadata": {},
   "outputs": [],
   "source": [
    "# Путь к вашему локальному файлу\n",
    "#image_path = \"/home/lastinm/PROJECTS/credit_cards_detection/artefacts/1_0.91_AgACAgIAAxkBAAICb2gDc1odBGUeYrwLDCqbVKbzKukKAALx7jEb9jsYSCYoYdOUlI6-AQADAgADeAADNgQ.jpeg\"\n",
    "image_path = '/home/lastinm/PROJECTS/credit_cards_detection/artefacts/3_0.91_AgACAgIAAxkBAAICb2gDc1odBGUeYrwLDCqbVKbzKukKAALx7jEb9jsYSCYoYdOUlI6-AQADAgADeAADNgQ.jpeg'\n",
    "#image_path = 'artefacts/2_0.93_AgACAgIAAxkBAAICb2gDc1odBGUeYrwLDCqbVKbzKukKAALx7jEb9jsYSCYoYdOUlI6-AQADAgADeAADNgQ.jpeg'"
   ]
  },
  {
   "cell_type": "code",
   "execution_count": null,
   "id": "5e4edaf3",
   "metadata": {},
   "outputs": [],
   "source": [
    "# Загрузка и предобработка изображения\n",
    "def preprocess_image(image_path):\n",
    "    # 1. Открываем изображение через PIL и конвертируем в RGB\n",
    "    pil_image = Image.open(image_path).convert(\"RGB\")\n",
    "    \n",
    "    # 2. Конвертируем PIL.Image в numpy array (для OpenCV)\n",
    "    cv_image = np.array(pil_image)\n",
    "    \n",
    "    # 3. Увеличение размера (если текст мелкий)\n",
    "    cv_image = cv2.resize(cv_image, None, fx=1.25, fy=1, interpolation=cv2.INTER_CUBIC)\n",
    "\n",
    "    # # # 4. Конвертируем в grayscale для бинаризации\n",
    "    gray = cv2.cvtColor(cv_image, cv2.COLOR_RGB2GRAY)\n",
    "\n",
    "    # # Увеличение резкости (для мелкого текста)\n",
    "    kernel = np.array([[-1,-1,-1], [-1,9,-1], [-1,-1,-1]])\n",
    "    img = cv2.filter2D(gray, -1, kernel)\n",
    "\n",
    "    # # Улучшение контраста (CLAHE)\n",
    "    clahe = cv2.createCLAHE(clipLimit=2.0, tileGridSize=(6,6))\n",
    "    img = clahe.apply(img)\n",
    "    \n",
    "    # # 6. Конвертируем обратно в RGB (чтобы TrOCR не ругался)\n",
    "    result = cv2.cvtColor(img, cv2.COLOR_GRAY2RGB)\n",
    "    \n",
    "    # 7. Возвращаем как PIL.Image\n",
    "    return Image.fromarray(cv_image)"
   ]
  },
  {
   "cell_type": "code",
   "execution_count": 5,
   "id": "8ecc81d7",
   "metadata": {},
   "outputs": [],
   "source": [
    "def remove_background_simple(img_path):\n",
    "    # Загрузка изображения\n",
    "    img = cv2.imread(img_path, cv2.IMREAD_GRAYSCALE)\n",
    "    \n",
    "    # Автоматическая бинаризация (Otsu)\n",
    "    _, thresh = cv2.threshold(img, 0, 255, cv2.THRESH_BINARY_INV + cv2.THRESH_OTSU)\n",
    "    \n",
    "    # Инвертирование обратно\n",
    "    binary = cv2.bitwise_not(thresh)\n",
    "\n",
    "    # # 6. Конвертируем обратно в RGB (чтобы TrOCR не ругался)\n",
    "    result = cv2.cvtColor(binary, cv2.COLOR_GRAY2RGB)\n",
    "    \n",
    "    return Image.fromarray(result)"
   ]
  },
  {
   "cell_type": "code",
   "execution_count": 6,
   "id": "129971b2",
   "metadata": {},
   "outputs": [],
   "source": [
    "def remove_background_adaptive(img_path):\n",
    "    img = cv2.imread(img_path, cv2.IMREAD_GRAYSCALE)\n",
    "    \n",
    "    # Адаптивная бинаризация\n",
    "    binary = cv2.adaptiveThreshold(img, 255, \n",
    "                                 cv2.ADAPTIVE_THRESH_GAUSSIAN_C,\n",
    "                                 cv2.THRESH_BINARY_INV, 11, 2)\n",
    "    \n",
    "    # Удаление шумов\n",
    "    kernel = np.ones((2,2), np.uint8)\n",
    "    cleaned = 255 - cv2.morphologyEx(binary, cv2.MORPH_OPEN, kernel)        # Инвертируем обратно\n",
    "    \n",
    "    # # 6. Конвертируем обратно в RGB (чтобы TrOCR не ругался)\n",
    "    result = cv2.cvtColor(cleaned, cv2.COLOR_GRAY2RGB)       \n",
    "\n",
    "    return Image.fromarray(result)  "
   ]
  },
  {
   "cell_type": "code",
   "execution_count": 7,
   "id": "bcb20adc",
   "metadata": {},
   "outputs": [
    {
     "data": {
      "image/jpeg": "[encoded data removed]",
      "image/png": "[encoded data removed]",
      "text/plain": [
       "<PIL.Image.Image image mode=RGB size=111x45>"
      ]
     },
     "metadata": {},
     "output_type": "display_data"
    }
   ],
   "source": [
    "image = preprocess_image(image_path)\n",
    "display(image)"
   ]
  },
  {
   "cell_type": "code",
   "execution_count": 98,
   "id": "db8dd918",
   "metadata": {},
   "outputs": [
    {
     "data": {
      "image/jpeg": "[encoded data removed]",
      "image/png": "[encoded data removed]",
      "text/plain": [
       "<PIL.Image.Image image mode=RGB size=89x45>"
      ]
     },
     "metadata": {},
     "output_type": "display_data"
    }
   ],
   "source": [
    "image = remove_background_simple(image_path)\n",
    "display(image)"
   ]
  },
  {
   "cell_type": "code",
   "execution_count": 99,
   "id": "34a80c43",
   "metadata": {},
   "outputs": [
    {
     "data": {
      "image/jpeg": "[encoded data removed]",
      "image/png": "[encoded data removed]",
      "text/plain": [
       "<PIL.Image.Image image mode=RGB size=89x45>"
      ]
     },
     "metadata": {},
     "output_type": "display_data"
    }
   ],
   "source": [
    "image = remove_background_adaptive(image_path)\n",
    "display(image)"
   ]
  },
  {
   "cell_type": "code",
   "execution_count": 23,
   "id": "deade08b",
   "metadata": {},
   "outputs": [],
   "source": [
    "# 3. Предобработка и распознавание\n",
    "pixel_values = processor(image, return_tensors=\"pt\").pixel_values"
   ]
  },
  {
   "cell_type": "code",
   "execution_count": 24,
   "id": "3b8f2b58",
   "metadata": {},
   "outputs": [
    {
     "name": "stdout",
     "output_type": "stream",
     "text": [
      "Распознанные цифры: 06/96\n"
     ]
    }
   ],
   "source": [
    "generated_ids = model.generate(pixel_values)\n",
    "recognized_text = processor.batch_decode(generated_ids, skip_special_tokens=True)[0]\n",
    "\n",
    "# 4. Вывод результата\n",
    "print(f\"Распознанные цифры: {recognized_text}\")"
   ]
  },
  {
   "cell_type": "code",
   "execution_count": 41,
   "id": "95942f79",
   "metadata": {},
   "outputs": [],
   "source": [
    "# Извлечение уверенности\n",
    "def get_text_with_confidence(outputs):\n",
    "        \n",
    "    # Получаем все токены (игнорируя <s> и </s>)\n",
    "    tokens = outputs.sequences[0][1:-1]\n",
    "    \n",
    "    # Собираем результаты\n",
    "    result_text = []\n",
    "    confidences = []\n",
    "    \n",
    "    # Обрабатываем каждый токен\n",
    "    for i, token in enumerate(tokens):\n",
    "        # Получаем текстовое представление токена\n",
    "        token_text = processor.decode([token], skip_special_tokens=True)\n",
    "        \n",
    "        # Получаем уверенность для этого токена\n",
    "        confidence = torch.softmax(outputs.scores[i], dim=-1)[0, token].item()\n",
    "        \n",
    "        # Для каждого символа в декодированном токене добавляем уверенность\n",
    "        for char in token_text:\n",
    "            result_text.append(char)\n",
    "            confidences.append(confidence)\n",
    "    \n",
    "    # Собираем полный текст\n",
    "    full_text = ''.join(result_text)\n",
    "        \n",
    "    return full_text, confidences"
   ]
  },
  {
   "cell_type": "code",
   "execution_count": 42,
   "id": "53269385",
   "metadata": {},
   "outputs": [
    {
     "name": "stdout",
     "output_type": "stream",
     "text": [
      "Распознанный текст: '06/96'\n",
      "Длина текста: 5, Уверенностей: 5\n",
      "Соответствие символов и уверенностей:\n",
      "'0': 96.8%\n",
      "'6': 96.8%\n",
      "'/': 99.6%\n",
      "'9': 100.0%\n",
      "'6': 100.0%\n"
     ]
    }
   ],
   "source": [
    "# Генерация текста\n",
    "outputs = model.generate(\n",
    "    pixel_values,\n",
    "    output_scores=True,\n",
    "    return_dict_in_generate=True,\n",
    "    max_length=50\n",
    ")\n",
    "\n",
    "# Результат\n",
    "full_text, confidences = get_text_with_confidence(outputs)\n",
    "\n",
    "# Проверка\n",
    "print(f\"Распознанный текст: '{full_text}'\")\n",
    "print(f\"Длина текста: {len(full_text)}, Уверенностей: {len(confidences)}\")\n",
    "print(\"Соответствие символов и уверенностей:\")\n",
    "for char, conf in zip(full_text, confidences):\n",
    "    print(f\"'{char}': {conf:.1%}\")"
   ]
  },
  {
   "cell_type": "code",
   "execution_count": null,
   "id": "aa5f0b90",
   "metadata": {},
   "outputs": [],
   "source": [
    "import matplotlib.pyplot as plt\n",
    "\n",
    "plt.figure(figsize=(10, 3))\n",
    "plt.bar(recognized_text, confidences)\n",
    "plt.title(\"Уверенность распознавания по символам\")\n",
    "plt.ylabel(\"Вероятность\")\n",
    "plt.ylim(0, 1)\n",
    "plt.show()"
   ]
  }
 ],
 "metadata": {
  "kernelspec": {
   "display_name": ".venv",
   "language": "python",
   "name": "python3"
  },
  "language_info": {
   "codemirror_mode": {
    "name": "ipython",
    "version": 3
   },
   "file_extension": ".py",
   "mimetype": "text/x-python",
   "name": "python",
   "nbconvert_exporter": "python",
   "pygments_lexer": "ipython3",
   "version": "3.11.12"
  }
 },
 "nbformat": 4,
 "nbformat_minor": 5
}
