{
 "cells": [
  {
   "cell_type": "code",
   "execution_count": 2,
   "id": "f4726cac",
   "metadata": {},
   "outputs": [
    {
     "name": "stderr",
     "output_type": "stream",
     "text": [
      "/home/lastinm/PROJECTS/credit_cards_detection/.venv/lib/python3.11/site-packages/tqdm/auto.py:21: TqdmWarning: IProgress not found. Please update jupyter and ipywidgets. See https://ipywidgets.readthedocs.io/en/stable/user_install.html\n",
      "  from .autonotebook import tqdm as notebook_tqdm\n",
      "2025-05-02 20:02:48.554110: I tensorflow/core/util/port.cc:113] oneDNN custom operations are on. You may see slightly different numerical results due to floating-point round-off errors from different computation orders. To turn them off, set the environment variable `TF_ENABLE_ONEDNN_OPTS=0`.\n",
      "2025-05-02 20:02:49.113690: E external/local_xla/xla/stream_executor/cuda/cuda_dnn.cc:9261] Unable to register cuDNN factory: Attempting to register factory for plugin cuDNN when one has already been registered\n",
      "2025-05-02 20:02:49.113715: E external/local_xla/xla/stream_executor/cuda/cuda_fft.cc:607] Unable to register cuFFT factory: Attempting to register factory for plugin cuFFT when one has already been registered\n",
      "2025-05-02 20:02:49.147355: E external/local_xla/xla/stream_executor/cuda/cuda_blas.cc:1515] Unable to register cuBLAS factory: Attempting to register factory for plugin cuBLAS when one has already been registered\n",
      "2025-05-02 20:02:49.216458: I tensorflow/core/platform/cpu_feature_guard.cc:182] This TensorFlow binary is optimized to use available CPU instructions in performance-critical operations.\n",
      "To enable the following instructions: AVX2 AVX_VNNI FMA, in other operations, rebuild TensorFlow with the appropriate compiler flags.\n",
      "2025-05-02 20:02:50.225393: W tensorflow/compiler/tf2tensorrt/utils/py_utils.cc:38] TF-TRT Warning: Could not find TensorRT\n"
     ]
    }
   ],
   "source": [
    "import easyocr\n",
    "from transformers import TrOCRProcessor, VisionEncoderDecoderModel\n",
    "from PIL import Image\n",
    "import numpy as np\n",
    "from Levenshtein import distance as levenshtein_distance"
   ]
  },
  {
   "cell_type": "code",
   "execution_count": null,
   "id": "df0245f4",
   "metadata": {},
   "outputs": [
    {
     "ename": "NameError",
     "evalue": "name 'easyocr' is not defined",
     "output_type": "error",
     "traceback": [
      "\u001b[31m---------------------------------------------------------------------------\u001b[39m",
      "\u001b[31mNameError\u001b[39m                                 Traceback (most recent call last)",
      "\u001b[36mCell\u001b[39m\u001b[36m \u001b[39m\u001b[32mIn[1]\u001b[39m\u001b[32m, line 2\u001b[39m\n\u001b[32m      1\u001b[39m \u001b[38;5;66;03m# Инициализация моделей\u001b[39;00m\n\u001b[32m----> \u001b[39m\u001b[32m2\u001b[39m easyocr_reader = \u001b[43measyocr\u001b[49m.Reader([\u001b[33m'\u001b[39m\u001b[33mru\u001b[39m\u001b[33m'\u001b[39m, \u001b[33m'\u001b[39m\u001b[33men\u001b[39m\u001b[33m'\u001b[39m])  \u001b[38;5;66;03m# Укажите нужные языки\u001b[39;00m\n\u001b[32m      3\u001b[39m processor = TrOCRProcessor.from_pretrained(\u001b[33m\"\u001b[39m\u001b[33mmicrosoft/trocr-base-printed\u001b[39m\u001b[33m\"\u001b[39m)\n\u001b[32m      4\u001b[39m trocr_model = VisionEncoderDecoderModel.from_pretrained(\u001b[33m\"\u001b[39m\u001b[33mmicrosoft/trocr-base-printed\u001b[39m\u001b[33m\"\u001b[39m)\n",
      "\u001b[31mNameError\u001b[39m: name 'easyocr' is not defined"
     ]
    }
   ],
   "source": [
    "# Инициализация моделей\n",
    "easyocr_reader = easyocr.Reader(['ru', 'en'])  # Укажите нужные языки\n",
    "processor = TrOCRProcessor.from_pretrained(\"microsoft/trocr-base-printed\")\n",
    "trocr_model = VisionEncoderDecoderModel.from_pretrained(\"microsoft/trocr-base-printed\")\n",
    "\n",
    "def evaluate_ocr(image_path, true_text):\n",
    "    # EasyOCR\n",
    "    easyocr_result = easyocr_reader.readtext(image_path, detail=0)\n",
    "    easyocr_text = \" \".join(easyocr_result)\n",
    "    \n",
    "    # TrOCR\n",
    "    image = Image.open(image_path).convert(\"RGB\")\n",
    "    pixel_values = processor(image, return_tensors=\"pt\").pixel_values\n",
    "    generated_ids = trocr_model.generate(pixel_values)\n",
    "    trocr_text = processor.batch_decode(generated_ids, skip_special_tokens=True)[0]\n",
    "    \n",
    "    # Метрики\n",
    "    def word_accuracy(pred, true):\n",
    "        pred_words = pred.split()\n",
    "        true_words = true.split()\n",
    "        correct = sum(1 for p, t in zip(pred_words, true_words) if p == t)\n",
    "        return correct / max(len(true_words), 1)\n",
    "    \n",
    "    return {\n",
    "        \"easyocr_word_acc\": word_accuracy(easyocr_text, true_text),\n",
    "        \"trocr_word_acc\": word_accuracy(trocr_text, true_text),\n",
    "        \"easyocr_levenshtein\": levenshtein_distance(easyocr_text, true_text),\n",
    "        \"trocr_levenshtein\": levenshtein_distance(trocr_text, true_text),\n",
    "    }\n",
    "\n",
    "# Пример для одного изображения\n",
    "metrics = evaluate_ocr(\"/home/lastinm/PROJECTS/credit_cards_detection/notebooks/output/2_1742460932042_resized_jpg.rf.cc580bf6003a8859a97b0c846b08415c_crop0.jpg\",\n",
    "                        \"4276 0400 1647 7684\")\n",
    "print(metrics)"
   ]
  }
 ],
 "metadata": {
  "kernelspec": {
   "display_name": ".venv",
   "language": "python",
   "name": "python3"
  },
  "language_info": {
   "codemirror_mode": {
    "name": "ipython",
    "version": 3
   },
   "file_extension": ".py",
   "mimetype": "text/x-python",
   "name": "python",
   "nbconvert_exporter": "python",
   "pygments_lexer": "ipython3",
   "version": "3.11.12"
  }
 },
 "nbformat": 4,
 "nbformat_minor": 5
}
