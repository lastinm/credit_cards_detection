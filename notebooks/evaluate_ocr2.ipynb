{
 "cells": [
  {
   "cell_type": "code",
   "execution_count": 1,
   "id": "f4726cac",
   "metadata": {},
   "outputs": [
    {
     "name": "stderr",
     "output_type": "stream",
     "text": [
      "/home/lastinm/PROJECTS/credit_cards_detection/.venv/lib/python3.11/site-packages/tqdm/auto.py:21: TqdmWarning: IProgress not found. Please update jupyter and ipywidgets. See https://ipywidgets.readthedocs.io/en/stable/user_install.html\n",
      "  from .autonotebook import tqdm as notebook_tqdm\n",
      "2025-05-02 20:10:20.410677: I tensorflow/core/util/port.cc:113] oneDNN custom operations are on. You may see slightly different numerical results due to floating-point round-off errors from different computation orders. To turn them off, set the environment variable `TF_ENABLE_ONEDNN_OPTS=0`.\n",
      "2025-05-02 20:10:20.435623: E external/local_xla/xla/stream_executor/cuda/cuda_dnn.cc:9261] Unable to register cuDNN factory: Attempting to register factory for plugin cuDNN when one has already been registered\n",
      "2025-05-02 20:10:20.435649: E external/local_xla/xla/stream_executor/cuda/cuda_fft.cc:607] Unable to register cuFFT factory: Attempting to register factory for plugin cuFFT when one has already been registered\n",
      "2025-05-02 20:10:20.436290: E external/local_xla/xla/stream_executor/cuda/cuda_blas.cc:1515] Unable to register cuBLAS factory: Attempting to register factory for plugin cuBLAS when one has already been registered\n",
      "2025-05-02 20:10:20.440550: I tensorflow/core/platform/cpu_feature_guard.cc:182] This TensorFlow binary is optimized to use available CPU instructions in performance-critical operations.\n",
      "To enable the following instructions: AVX2 AVX_VNNI FMA, in other operations, rebuild TensorFlow with the appropriate compiler flags.\n",
      "2025-05-02 20:10:20.969096: W tensorflow/compiler/tf2tensorrt/utils/py_utils.cc:38] TF-TRT Warning: Could not find TensorRT\n"
     ]
    }
   ],
   "source": [
    "import easyocr\n",
    "from transformers import TrOCRProcessor, VisionEncoderDecoderModel\n",
    "from PIL import Image\n",
    "from Levenshtein import distance as levenshtein_distance\n",
    "import pandas as pd\n",
    "from tqdm import tqdm\n",
    "import json"
   ]
  },
  {
   "cell_type": "code",
   "execution_count": null,
   "id": "df0245f4",
   "metadata": {},
   "outputs": [
    {
     "ename": "TypeError",
     "evalue": "Reader.__init__() got an unexpected keyword argument 'allowlist'",
     "output_type": "error",
     "traceback": [
      "\u001b[31m---------------------------------------------------------------------------\u001b[39m",
      "\u001b[31mTypeError\u001b[39m                                 Traceback (most recent call last)",
      "\u001b[36mCell\u001b[39m\u001b[36m \u001b[39m\u001b[32mIn[7]\u001b[39m\u001b[32m, line 2\u001b[39m\n\u001b[32m      1\u001b[39m \u001b[38;5;66;03m# Инициализация моделей\u001b[39;00m\n\u001b[32m----> \u001b[39m\u001b[32m2\u001b[39m easyocr_reader = \u001b[43measyocr\u001b[49m\u001b[43m.\u001b[49m\u001b[43mReader\u001b[49m\u001b[43m(\u001b[49m\u001b[43m[\u001b[49m\u001b[33;43m'\u001b[39;49m\u001b[33;43men\u001b[39;49m\u001b[33;43m'\u001b[39;49m\u001b[43m]\u001b[49m\u001b[43m,\u001b[49m\u001b[43m \u001b[49m\u001b[43mallowlist\u001b[49m\u001b[43m=\u001b[49m\u001b[33;43m'\u001b[39;49m\u001b[33;43m1234567890\u001b[39;49m\u001b[33;43m'\u001b[39;49m\u001b[43m)\u001b[49m  \u001b[38;5;66;03m# Укажите нужные языки\u001b[39;00m\n\u001b[32m      3\u001b[39m processor = TrOCRProcessor.from_pretrained(\u001b[33m\"\u001b[39m\u001b[33mmicrosoft/trocr-base-printed\u001b[39m\u001b[33m\"\u001b[39m)\n\u001b[32m      4\u001b[39m trocr_model = VisionEncoderDecoderModel.from_pretrained(\u001b[33m\"\u001b[39m\u001b[33mmicrosoft/trocr-base-printed\u001b[39m\u001b[33m\"\u001b[39m)\n",
      "\u001b[31mTypeError\u001b[39m: Reader.__init__() got an unexpected keyword argument 'allowlist'"
     ]
    }
   ],
   "source": [
    "# Инициализация моделей\n",
    "easyocr_reader = easyocr.Reader(['en'])  # Укажите нужные языки\n",
    "processor = TrOCRProcessor.from_pretrained(\"microsoft/trocr-base-printed\")\n",
    "trocr_model = VisionEncoderDecoderModel.from_pretrained(\"microsoft/trocr-base-printed\")"
   ]
  },
  {
   "cell_type": "code",
   "execution_count": null,
   "id": "c3c08009",
   "metadata": {},
   "outputs": [],
   "source": [
    "def evaluate_ocr(image_path, true_text):\n",
    "    try:\n",
    "        # EasyOCR\n",
    "        easyocr_result = easyocr_reader.readtext(image_path, detail=0, allowlist='1234567890')\n",
    "        easyocr_text = \" \".join(easyocr_result)\n",
    "        \n",
    "        # TrOCR\n",
    "        image = Image.open(image_path).convert(\"RGB\")\n",
    "        pixel_values = processor(image, return_tensors=\"pt\").pixel_values\n",
    "        generated_ids = trocr_model.generate(pixel_values)\n",
    "        trocr_text = processor.batch_decode(generated_ids, skip_special_tokens=True)[0]\n",
    "        \n",
    "        # Метрики\n",
    "        def word_accuracy(pred, true):\n",
    "            pred_words = pred.split()\n",
    "            true_words = true.split()\n",
    "            correct = sum(1 for p, t in zip(pred_words, true_words) if p == t)\n",
    "            return correct / max(len(true_words), 1)\n",
    "        \n",
    "        return {\n",
    "            \"image\": image_path,\n",
    "            \"true_text\": true_text,\n",
    "            \"easyocr_text\": easyocr_text,\n",
    "            \"trocr_text\": trocr_text,\n",
    "            \"easyocr_word_acc\": word_accuracy(easyocr_text, true_text),\n",
    "            \"trocr_word_acc\": word_accuracy(trocr_text, true_text),\n",
    "            \"easyocr_levenshtein\": levenshtein_distance(easyocr_text, true_text),\n",
    "            \"trocr_levenshtein\": levenshtein_distance(trocr_text, true_text),\n",
    "            \"easyocr_char_acc\": 1 - levenshtein_distance(easyocr_text, true_text)/max(len(true_text), 1),\n",
    "            \"trocr_char_acc\": 1 - levenshtein_distance(trocr_text, true_text)/max(len(true_text), 1)\n",
    "        }\n",
    "    \n",
    "    except Exception as e:\n",
    "        print(f\"Ошибка при обработке {image_path}: {str(e)}\")\n",
    "        return None"
   ]
  },
  {
   "cell_type": "code",
   "execution_count": 4,
   "id": "6b8556fb",
   "metadata": {},
   "outputs": [],
   "source": [
    "# Пример использования с несколькими изображениями\n",
    "def process_images(image_text_pairs, output_file=\"ocr_results.json\"):\n",
    "    results = []\n",
    "    \n",
    "    for image_path, true_text in tqdm(image_text_pairs, desc=\"Обработка изображений\"):\n",
    "        result = evaluate_ocr(image_path, true_text)\n",
    "        if result:\n",
    "            results.append(result)\n",
    "            # Вывод в консоль для каждого изображения\n",
    "            print(f\"\\nИзображение: {image_path}\")\n",
    "            print(f\"Эталонный текст: {true_text}\")\n",
    "            print(f\"EasyOCR: {result['easyocr_text']}\")\n",
    "            print(f\"TrOCR: {result['trocr_text']}\")\n",
    "            print(f\"Сравнение:\")\n",
    "            print(f\"  Word Accuracy: EasyOCR={result['easyocr_word_acc']:.2f}, TrOCR={result['trocr_word_acc']:.2f}\")\n",
    "            print(f\"  Levenshtein Distance: EasyOCR={result['easyocr_levenshtein']}, TrOCR={result['trocr_levenshtein']}\")\n",
    "            print(f\"  Character Accuracy: EasyOCR={result['easyocr_char_acc']:.2f}, TrOCR={result['trocr_char_acc']:.2f}\")\n",
    "    \n",
    "    # Сохранение всех результатов\n",
    "    with open(output_file, 'w', encoding='utf-8') as f:\n",
    "        json.dump(results, f, ensure_ascii=False, indent=2)\n",
    "    \n",
    "    # Создание сводной таблицы\n",
    "    df = pd.DataFrame(results)\n",
    "\n",
    "    summary = {\n",
    "            \"easyocr_avg_word_acc\": df['easyocr_word_acc'].mean(),\n",
    "            \"trocr_avg_word_acc\": df['trocr_word_acc'].mean(),\n",
    "            \"easyocr_avg_char_acc\": df['easyocr_char_acc'].mean(),\n",
    "            \"trocr_avg_char_acc\": df['trocr_char_acc'].mean(),\n",
    "            \"easyocr_avg_levenshtein\": df['easyocr_levenshtein'].mean(),\n",
    "            \"trocr_avg_levenshtein\": df['trocr_levenshtein'].mean()\n",
    "        }\n",
    "        \n",
    "    print(\"\\nИтоговые результаты:\")\n",
    "    for k, v in summary.items():\n",
    "        print(f\"{k}: {v:.4f}\")\n",
    "    \n",
    "    return results, summary\n"
   ]
  },
  {
   "cell_type": "code",
   "execution_count": 6,
   "id": "8a0ce557",
   "metadata": {},
   "outputs": [
    {
     "name": "stderr",
     "output_type": "stream",
     "text": [
      "Обработка изображений: 100%|██████████| 1/1 [00:02<00:00,  2.46s/it]"
     ]
    },
    {
     "name": "stdout",
     "output_type": "stream",
     "text": [
      "\n",
      "Изображение: /home/lastinm/PROJECTS/credit_cards_detection/notebooks/output/2_1742460932042_resized_jpg.rf.cc580bf6003a8859a97b0c846b08415c_crop0.jpg\n",
      "Эталонный текст: 4276 0400 1647 7684\n",
      "EasyOCR: 42I60K00164 1 '1684\n",
      "TrOCR: 42 16-0400 1647 7584\n",
      "Сравнение:\n",
      "  Word Accuracy: EasyOCR=0.00, TrOCR=0.25\n",
      "  Levenshtein Distance: EasyOCR=8, TrOCR=4\n",
      "  Character Accuracy: EasyOCR=0.58, TrOCR=0.79\n",
      "\n",
      "Итоговые результаты:\n",
      "easyocr_avg_word_acc: 0.0000\n",
      "trocr_avg_word_acc: 0.2500\n",
      "easyocr_avg_char_acc: 0.5789\n",
      "trocr_avg_char_acc: 0.7895\n",
      "easyocr_avg_levenshtein: 8.0000\n",
      "trocr_avg_levenshtein: 4.0000\n"
     ]
    },
    {
     "name": "stderr",
     "output_type": "stream",
     "text": [
      "\n"
     ]
    }
   ],
   "source": [
    "# Подготовьте список кортежей (путь_к_изображению, эталонный_текст)\n",
    "image_text_pairs = [\n",
    "    (\"/home/lastinm/PROJECTS/credit_cards_detection/notebooks/output/2_1742460932042_resized_jpg.rf.cc580bf6003a8859a97b0c846b08415c_crop0.jpg\",\n",
    "                        \"4276 0400 1647 7684\"),\n",
    "    #(\"image2.jpg\", \"пример текста 2\"),\n",
    "    # ... добавьте все 100 изображений\n",
    "]\n",
    "\n",
    "results, summary = process_images(image_text_pairs)"
   ]
  }
 ],
 "metadata": {
  "kernelspec": {
   "display_name": ".venv",
   "language": "python",
   "name": "python3"
  },
  "language_info": {
   "codemirror_mode": {
    "name": "ipython",
    "version": 3
   },
   "file_extension": ".py",
   "mimetype": "text/x-python",
   "name": "python",
   "nbconvert_exporter": "python",
   "pygments_lexer": "ipython3",
   "version": "3.11.12"
  }
 },
 "nbformat": 4,
 "nbformat_minor": 5
}
