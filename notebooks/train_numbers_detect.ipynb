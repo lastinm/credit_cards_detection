{
 "cells": [
  {
   "cell_type": "markdown",
   "id": "b15e5a36",
   "metadata": {},
   "source": [
    "# Подготовка датасета и обучение YOLO для детекции цифр"
   ]
  },
  {
   "cell_type": "markdown",
   "id": "3f72d75a",
   "metadata": {},
   "source": [
    "1. Структура датасета\n",
    "Организуйте данные в следующем формате:\n",
    "\n",
    "Copy\n",
    "dataset/\n",
    "├── images/\n",
    "│   ├── 0_001.png\n",
    "│   ├── 0_002.png\n",
    "│   ├── 1_001.png\n",
    "│   └── ...\n",
    "└── labels/\n",
    "    ├── 0_001.txt\n",
    "    ├── 0_002.txt\n",
    "    ├── 1_001.txt\n",
    "    └── ..."
   ]
  },
  {
   "cell_type": "markdown",
   "id": "a851a8cf",
   "metadata": {},
   "source": [
    "2. Разметка данных (YOLO формат)\n",
    "Для каждого изображения создайте .txt файл с аннотациями в формате:\n",
    "\n",
    "Copy\n",
    "<class_id> <x_center> <y_center> <width> <height>\n",
    "\n",
    "где координаты нормированы на [0, 1] относительно размеров изображения.\n",
    "\n",
    "Пример labels/0_001.txt:\n",
    "\n",
    "0 0.5 0.5 0.2 0.3"
   ]
  },
  {
   "cell_type": "markdown",
   "id": "3fd02c7b",
   "metadata": {},
   "source": [
    "3. Генерация разметки (автоматическая)\n",
    "Если цифры занимают все изображение, используйте скрипт:"
   ]
  },
  {
   "cell_type": "code",
   "execution_count": 1,
   "id": "287f495d",
   "metadata": {},
   "outputs": [],
   "source": [
    "import os\n",
    "import cv2"
   ]
  },
  {
   "cell_type": "code",
   "execution_count": 2,
   "id": "7dd4653b",
   "metadata": {},
   "outputs": [],
   "source": [
    "def generate_labels(dataset_root, output_dir):\n",
    "    \"\"\"\n",
    "    Генерирует YOLO-разметку для изображений цифр, где каждый класс в отдельной папке.\n",
    "    \n",
    "    :param dataset_root: Путь к корневой папке датасета (содержит папки 0-9)\n",
    "    :param output_dir: Папка для сохранения файлов разметки\n",
    "    \"\"\"\n",
    "    # Создаем папки для изображений и разметки\n",
    "    images_dir = os.path.join(output_dir, 'images')\n",
    "    labels_dir = os.path.join(output_dir, 'labels')\n",
    "    \n",
    "    os.makedirs(images_dir, exist_ok=True)\n",
    "    os.makedirs(labels_dir, exist_ok=True)\n",
    "    \n",
    "    # Проходим по всем папкам с цифрами (0-9)\n",
    "    for class_dir in sorted(os.listdir(dataset_root)):\n",
    "        class_path = os.path.join(dataset_root, class_dir)\n",
    "        \n",
    "        if not os.path.isdir(class_path):\n",
    "            continue\n",
    "            \n",
    "        try:\n",
    "            class_id = int(class_dir)  # Имя папки - это класс цифры\n",
    "        except ValueError:\n",
    "            continue  # Пропускаем нецифровые папки\n",
    "        \n",
    "        # Обрабатываем все PNG-файлы в папке класса\n",
    "        for img_name in os.listdir(class_path):\n",
    "            if not img_name.endswith('.png'):\n",
    "                continue\n",
    "                \n",
    "            # Полный путь к исходному изображению\n",
    "            src_img_path = os.path.join(class_path, img_name)\n",
    "            \n",
    "            # Новое имя файла (сохраняем структуру \"цифра_номер.png\")\n",
    "            new_img_name = f\"{class_id}_{img_name.split('_')[1]}\"\n",
    "            dest_img_path = os.path.join(images_dir, new_img_name)\n",
    "            \n",
    "            # Копируем изображение в единую папку\n",
    "            img = cv2.imread(src_img_path)\n",
    "            cv2.imwrite(dest_img_path, img)\n",
    "            \n",
    "            # Генерируем разметку YOLO (всё изображение - одна цифра)\n",
    "            h, w = img.shape[:2]\n",
    "            label_content = f\"{class_id} 0.5 0.5 1.0 1.0\"  # Центр, ширина и высота 100%\n",
    "            \n",
    "            # Сохраняем разметку\n",
    "            label_name = new_img_name.replace('.png', '.txt')\n",
    "            label_path = os.path.join(labels_dir, label_name)\n",
    "            \n",
    "            with open(label_path, 'w') as f:\n",
    "                f.write(label_content)\n",
    "    \n",
    "    print(f\"Обработка завершена. Изображения сохранены в {images_dir}, разметка в {labels_dir}\")"
   ]
  },
  {
   "cell_type": "code",
   "execution_count": 3,
   "id": "205fb30d",
   "metadata": {},
   "outputs": [
    {
     "name": "stdout",
     "output_type": "stream",
     "text": [
      "Обработка завершена. Изображения сохранены в /home/lastinm/PROJECTS/DATA/digits (yolo format)/images, разметка в /home/lastinm/PROJECTS/DATA/digits (yolo format)/labels\n"
     ]
    }
   ],
   "source": [
    "generate_labels('/home/lastinm/PROJECTS/DATA/digits/images',            # Папка с подпапками 0-9\n",
    "                 '/home/lastinm/PROJECTS/DATA/digits (yolo format)')    # Куда сохранить подготовленные данные"
   ]
  },
  {
   "cell_type": "markdown",
   "id": "60a075a8",
   "metadata": {},
   "source": [
    "## Разделение на train/val"
   ]
  },
  {
   "cell_type": "code",
   "execution_count": 4,
   "id": "f0fbe189",
   "metadata": {},
   "outputs": [],
   "source": [
    "import random\n",
    "from shutil import copyfile"
   ]
  },
  {
   "cell_type": "code",
   "execution_count": 5,
   "id": "a78ac189",
   "metadata": {},
   "outputs": [],
   "source": [
    "images_dir = '/home/lastinm/PROJECTS/DATA/digits (yolo format)/images'\n",
    "labels_dir = '/home/lastinm/PROJECTS/DATA/digits (yolo format)/labels'"
   ]
  },
  {
   "cell_type": "code",
   "execution_count": 6,
   "id": "e5c5849c",
   "metadata": {},
   "outputs": [],
   "source": [
    "# После генерации всех данных:\n",
    "all_images = os.listdir(images_dir)\n",
    "random.shuffle(all_images)\n",
    "\n",
    "# 80% train, 20% val\n",
    "split_idx = int(0.8 * len(all_images))\n",
    "train_images = all_images[:split_idx]\n",
    "val_images = all_images[split_idx:]\n",
    "\n",
    "# Создаем подпапки\n",
    "os.makedirs('/home/lastinm/PROJECTS/DATA/digits (yolo format)/train/images', exist_ok=True)\n",
    "os.makedirs('/home/lastinm/PROJECTS/DATA/digits (yolo format)/train/labels', exist_ok=True)\n",
    "os.makedirs('/home/lastinm/PROJECTS/DATA/digits (yolo format)/val/images', exist_ok=True)\n",
    "os.makedirs('/home/lastinm/PROJECTS/DATA/digits (yolo format)/val/labels', exist_ok=True)\n",
    "\n",
    "# Копируем файлы\n",
    "for img_name in train_images:\n",
    "    # Изображения\n",
    "    src = os.path.join(images_dir, img_name)\n",
    "    dst = os.path.join('/home/lastinm/PROJECTS/DATA/digits (yolo format)/train/images', img_name)\n",
    "    copyfile(src, dst)\n",
    "    \n",
    "    # Разметка\n",
    "    label_name = img_name.replace('.png', '.txt')\n",
    "    src = os.path.join(labels_dir, label_name)\n",
    "    dst = os.path.join('/home/lastinm/PROJECTS/DATA/digits (yolo format)/train/labels', label_name)\n",
    "    copyfile(src, dst)\n",
    "\n",
    "# Аналогично для val...\n",
    "for img_name in val_images:\n",
    "    # Изображения\n",
    "    src = os.path.join(images_dir, img_name)\n",
    "    dst = os.path.join('/home/lastinm/PROJECTS/DATA/digits (yolo format)/val/images', img_name)\n",
    "    copyfile(src, dst)\n",
    "    \n",
    "    # Разметка\n",
    "    label_name = img_name.replace('.png', '.txt')\n",
    "    src = os.path.join(labels_dir, label_name)\n",
    "    dst = os.path.join('/home/lastinm/PROJECTS/DATA/digits (yolo format)/val/labels', label_name)\n",
    "    copyfile(src, dst)"
   ]
  },
  {
   "cell_type": "markdown",
   "id": "256f2222",
   "metadata": {},
   "source": [
    "# Обучение модели"
   ]
  },
  {
   "cell_type": "code",
   "execution_count": null,
   "id": "9c21c565",
   "metadata": {},
   "outputs": [],
   "source": [
    "%pip install ultralytics"
   ]
  },
  {
   "cell_type": "code",
   "execution_count": 3,
   "id": "a1e29dc6",
   "metadata": {},
   "outputs": [],
   "source": [
    "from ultralytics import YOLO"
   ]
  },
  {
   "cell_type": "code",
   "execution_count": null,
   "id": "d585e022",
   "metadata": {},
   "outputs": [
    {
     "name": "stdout",
     "output_type": "stream",
     "text": [
      "New https://pypi.org/project/ultralytics/8.3.112 available 😃 Update with 'pip install -U ultralytics'\n",
      "Ultralytics 8.3.111 🚀 Python-3.11.12 torch-2.6.0+cu124 CUDA:0 (NVIDIA GeForce RTX 4070, 11875MiB)\n",
      "\u001b[34m\u001b[1mengine/trainer: \u001b[0mtask=detect, mode=train, model=yolov8s.pt, data=/home/lastinm/PROJECTS/DATA/digits_yolo_format/data.yaml, epochs=100, time=None, patience=100, batch=32, imgsz=640, save=True, save_period=-1, cache=False, device=0, workers=8, project=None, name=train10, exist_ok=False, pretrained=True, optimizer=auto, verbose=True, seed=0, deterministic=True, single_cls=False, rect=False, cos_lr=False, close_mosaic=10, resume=False, amp=True, fraction=1.0, profile=False, freeze=None, multi_scale=False, overlap_mask=True, mask_ratio=4, dropout=0.0, val=True, split=val, save_json=False, conf=None, iou=0.7, max_det=300, half=False, dnn=False, plots=True, source=None, vid_stride=1, stream_buffer=False, visualize=False, augment=True, agnostic_nms=False, classes=None, retina_masks=False, embed=None, show=False, save_frames=False, save_txt=False, save_conf=False, save_crop=False, show_labels=True, show_conf=True, show_boxes=True, line_width=None, format=torchscript, keras=False, optimize=False, int8=False, dynamic=False, simplify=True, opset=None, workspace=None, nms=False, lr0=0.01, lrf=0.01, momentum=0.937, weight_decay=0.0005, warmup_epochs=3.0, warmup_momentum=0.8, warmup_bias_lr=0.1, box=7.5, cls=0.5, dfl=1.5, pose=12.0, kobj=1.0, nbs=64, hsv_h=0.1, hsv_s=0.7, hsv_v=0.4, degrees=0.0, translate=0.2, scale=0.5, shear=0.0, perspective=0.0, flipud=0.0, fliplr=0.5, bgr=0.0, mosaic=1.0, mixup=0.0, copy_paste=0.0, copy_paste_mode=flip, auto_augment=randaugment, erasing=0.4, cfg=None, tracker=botsort.yaml, save_dir=runs/detect/train10\n"
     ]
    },
    {
     "ename": "RuntimeError",
     "evalue": "Dataset '/home/lastinm/PROJECTS/DATA/digits_yolo_format/data.yaml' error ❌ '/home/lastinm/PROJECTS/DATA/digits_yolo_format/data.yaml' does not exist",
     "output_type": "error",
     "traceback": [
      "\u001b[31m---------------------------------------------------------------------------\u001b[39m",
      "\u001b[31mFileNotFoundError\u001b[39m                         Traceback (most recent call last)",
      "\u001b[36mFile \u001b[39m\u001b[32m~/PROJECTS/credit_cards_detection/.venv/lib/python3.11/site-packages/ultralytics/engine/trainer.py:582\u001b[39m, in \u001b[36mBaseTrainer.get_dataset\u001b[39m\u001b[34m(self)\u001b[39m\n\u001b[32m    576\u001b[39m \u001b[38;5;28;01melif\u001b[39;00m \u001b[38;5;28mself\u001b[39m.args.data.split(\u001b[33m\"\u001b[39m\u001b[33m.\u001b[39m\u001b[33m\"\u001b[39m)[-\u001b[32m1\u001b[39m] \u001b[38;5;129;01min\u001b[39;00m {\u001b[33m\"\u001b[39m\u001b[33myaml\u001b[39m\u001b[33m\"\u001b[39m, \u001b[33m\"\u001b[39m\u001b[33myml\u001b[39m\u001b[33m\"\u001b[39m} \u001b[38;5;129;01mor\u001b[39;00m \u001b[38;5;28mself\u001b[39m.args.task \u001b[38;5;129;01min\u001b[39;00m {\n\u001b[32m    577\u001b[39m     \u001b[33m\"\u001b[39m\u001b[33mdetect\u001b[39m\u001b[33m\"\u001b[39m,\n\u001b[32m    578\u001b[39m     \u001b[33m\"\u001b[39m\u001b[33msegment\u001b[39m\u001b[33m\"\u001b[39m,\n\u001b[32m    579\u001b[39m     \u001b[33m\"\u001b[39m\u001b[33mpose\u001b[39m\u001b[33m\"\u001b[39m,\n\u001b[32m    580\u001b[39m     \u001b[33m\"\u001b[39m\u001b[33mobb\u001b[39m\u001b[33m\"\u001b[39m,\n\u001b[32m    581\u001b[39m }:\n\u001b[32m--> \u001b[39m\u001b[32m582\u001b[39m     data = \u001b[43mcheck_det_dataset\u001b[49m\u001b[43m(\u001b[49m\u001b[38;5;28;43mself\u001b[39;49m\u001b[43m.\u001b[49m\u001b[43margs\u001b[49m\u001b[43m.\u001b[49m\u001b[43mdata\u001b[49m\u001b[43m)\u001b[49m\n\u001b[32m    583\u001b[39m     \u001b[38;5;28;01mif\u001b[39;00m \u001b[33m\"\u001b[39m\u001b[33myaml_file\u001b[39m\u001b[33m\"\u001b[39m \u001b[38;5;129;01min\u001b[39;00m data:\n",
      "\u001b[36mFile \u001b[39m\u001b[32m~/PROJECTS/credit_cards_detection/.venv/lib/python3.11/site-packages/ultralytics/data/utils.py:392\u001b[39m, in \u001b[36mcheck_det_dataset\u001b[39m\u001b[34m(dataset, autodownload)\u001b[39m\n\u001b[32m    378\u001b[39m \u001b[38;5;250m\u001b[39m\u001b[33;03m\"\"\"\u001b[39;00m\n\u001b[32m    379\u001b[39m \u001b[33;03mDownload, verify, and/or unzip a dataset if not found locally.\u001b[39;00m\n\u001b[32m    380\u001b[39m \n\u001b[32m   (...)\u001b[39m\u001b[32m    390\u001b[39m \u001b[33;03m    (dict): Parsed dataset information and paths.\u001b[39;00m\n\u001b[32m    391\u001b[39m \u001b[33;03m\"\"\"\u001b[39;00m\n\u001b[32m--> \u001b[39m\u001b[32m392\u001b[39m file = \u001b[43mcheck_file\u001b[49m\u001b[43m(\u001b[49m\u001b[43mdataset\u001b[49m\u001b[43m)\u001b[49m\n\u001b[32m    394\u001b[39m \u001b[38;5;66;03m# Download (optional)\u001b[39;00m\n",
      "\u001b[36mFile \u001b[39m\u001b[32m~/PROJECTS/credit_cards_detection/.venv/lib/python3.11/site-packages/ultralytics/utils/checks.py:546\u001b[39m, in \u001b[36mcheck_file\u001b[39m\u001b[34m(file, suffix, download, download_dir, hard)\u001b[39m\n\u001b[32m    545\u001b[39m \u001b[38;5;28;01mif\u001b[39;00m \u001b[38;5;129;01mnot\u001b[39;00m files \u001b[38;5;129;01mand\u001b[39;00m hard:\n\u001b[32m--> \u001b[39m\u001b[32m546\u001b[39m     \u001b[38;5;28;01mraise\u001b[39;00m \u001b[38;5;167;01mFileNotFoundError\u001b[39;00m(\u001b[33mf\u001b[39m\u001b[33m\"\u001b[39m\u001b[33m'\u001b[39m\u001b[38;5;132;01m{\u001b[39;00mfile\u001b[38;5;132;01m}\u001b[39;00m\u001b[33m'\u001b[39m\u001b[33m does not exist\u001b[39m\u001b[33m\"\u001b[39m)\n\u001b[32m    547\u001b[39m \u001b[38;5;28;01melif\u001b[39;00m \u001b[38;5;28mlen\u001b[39m(files) > \u001b[32m1\u001b[39m \u001b[38;5;129;01mand\u001b[39;00m hard:\n",
      "\u001b[31mFileNotFoundError\u001b[39m: '/home/lastinm/PROJECTS/DATA/digits_yolo_format/data.yaml' does not exist",
      "\nThe above exception was the direct cause of the following exception:\n",
      "\u001b[31mRuntimeError\u001b[39m                              Traceback (most recent call last)",
      "\u001b[36mCell\u001b[39m\u001b[36m \u001b[39m\u001b[32mIn[5]\u001b[39m\u001b[32m, line 5\u001b[39m\n\u001b[32m      2\u001b[39m model = YOLO(\u001b[33m'\u001b[39m\u001b[33myolov8s.pt\u001b[39m\u001b[33m'\u001b[39m)  \u001b[38;5;66;03m# small-версия\u001b[39;00m\n\u001b[32m      4\u001b[39m \u001b[38;5;66;03m# Обучение\u001b[39;00m\n\u001b[32m----> \u001b[39m\u001b[32m5\u001b[39m results = \u001b[43mmodel\u001b[49m\u001b[43m.\u001b[49m\u001b[43mtrain\u001b[49m\u001b[43m(\u001b[49m\n\u001b[32m      6\u001b[39m \u001b[43m    \u001b[49m\u001b[43mdata\u001b[49m\u001b[43m=\u001b[49m\u001b[33;43m'\u001b[39;49m\u001b[33;43m/home/lastinm/PROJECTS/DATA/digits_yolo_format/data.yaml\u001b[39;49m\u001b[33;43m'\u001b[39;49m\u001b[43m,\u001b[49m\n\u001b[32m      7\u001b[39m \u001b[43m    \u001b[49m\u001b[43mepochs\u001b[49m\u001b[43m=\u001b[49m\u001b[32;43m100\u001b[39;49m\u001b[43m,\u001b[49m\n\u001b[32m      8\u001b[39m \u001b[43m    \u001b[49m\u001b[43mimgsz\u001b[49m\u001b[43m=\u001b[49m\u001b[32;43m640\u001b[39;49m\u001b[43m,\u001b[49m\u001b[43m  \u001b[49m\u001b[38;5;66;43;03m# Модель сама сделает ресайз с сохранением пропорций\u001b[39;49;00m\n\u001b[32m      9\u001b[39m \u001b[43m    \u001b[49m\u001b[43mbatch\u001b[49m\u001b[43m=\u001b[49m\u001b[32;43m32\u001b[39;49m\u001b[43m,\u001b[49m\n\u001b[32m     10\u001b[39m \u001b[43m    \u001b[49m\u001b[43maugment\u001b[49m\u001b[43m=\u001b[49m\u001b[38;5;28;43;01mTrue\u001b[39;49;00m\u001b[43m,\u001b[49m\u001b[43m  \u001b[49m\u001b[38;5;66;43;03m# Автоматическая аугментация\u001b[39;49;00m\n\u001b[32m     11\u001b[39m \u001b[43m    \u001b[49m\u001b[43mhsv_h\u001b[49m\u001b[43m=\u001b[49m\u001b[32;43m0.1\u001b[39;49m\u001b[43m,\u001b[49m\u001b[43m  \u001b[49m\u001b[38;5;66;43;03m# Цветовые искажения\u001b[39;49;00m\n\u001b[32m     12\u001b[39m \u001b[43m    \u001b[49m\u001b[43mhsv_s\u001b[49m\u001b[43m=\u001b[49m\u001b[32;43m0.7\u001b[39;49m\u001b[43m,\u001b[49m\n\u001b[32m     13\u001b[39m \u001b[43m    \u001b[49m\u001b[43mhsv_v\u001b[49m\u001b[43m=\u001b[49m\u001b[32;43m0.4\u001b[39;49m\u001b[43m,\u001b[49m\n\u001b[32m     14\u001b[39m \u001b[43m    \u001b[49m\u001b[43mtranslate\u001b[49m\u001b[43m=\u001b[49m\u001b[32;43m0.2\u001b[39;49m\u001b[43m,\u001b[49m\u001b[43m  \u001b[49m\u001b[38;5;66;43;03m# Сдвиги\u001b[39;49;00m\n\u001b[32m     15\u001b[39m \u001b[43m    \u001b[49m\u001b[43mscale\u001b[49m\u001b[43m=\u001b[49m\u001b[32;43m0.5\u001b[39;49m\u001b[43m,\u001b[49m\u001b[43m      \u001b[49m\u001b[38;5;66;43;03m# Масштабирование\u001b[39;49;00m\n\u001b[32m     16\u001b[39m \u001b[43m    \u001b[49m\u001b[43mfliplr\u001b[49m\u001b[43m=\u001b[49m\u001b[32;43m0.5\u001b[39;49m\u001b[43m,\u001b[49m\u001b[43m     \u001b[49m\u001b[38;5;66;43;03m# Горизонтальное отражение\u001b[39;49;00m\n\u001b[32m     17\u001b[39m \u001b[43m    \u001b[49m\u001b[43mmosaic\u001b[49m\u001b[43m=\u001b[49m\u001b[32;43m1.0\u001b[39;49m\u001b[43m,\u001b[49m\u001b[43m      \u001b[49m\u001b[38;5;66;43;03m# Мозаика (особенно полезно для мелких объектов)\u001b[39;49;00m\n\u001b[32m     18\u001b[39m \u001b[38;5;66;43;03m#    rect=True,     # Прямоугольное обучение (оптимизирует память)\u001b[39;49;00m\n\u001b[32m     19\u001b[39m \u001b[43m    \u001b[49m\u001b[43mdevice\u001b[49m\u001b[43m=\u001b[49m\u001b[33;43m'\u001b[39;49m\u001b[33;43m0\u001b[39;49m\u001b[33;43m'\u001b[39;49m\u001b[43m     \u001b[49m\u001b[38;5;66;43;03m# GPU\u001b[39;49;00m\n\u001b[32m     20\u001b[39m \u001b[43m)\u001b[49m\n",
      "\u001b[36mFile \u001b[39m\u001b[32m~/PROJECTS/credit_cards_detection/.venv/lib/python3.11/site-packages/ultralytics/engine/model.py:785\u001b[39m, in \u001b[36mModel.train\u001b[39m\u001b[34m(self, trainer, **kwargs)\u001b[39m\n\u001b[32m    782\u001b[39m \u001b[38;5;28;01mif\u001b[39;00m args.get(\u001b[33m\"\u001b[39m\u001b[33mresume\u001b[39m\u001b[33m\"\u001b[39m):\n\u001b[32m    783\u001b[39m     args[\u001b[33m\"\u001b[39m\u001b[33mresume\u001b[39m\u001b[33m\"\u001b[39m] = \u001b[38;5;28mself\u001b[39m.ckpt_path\n\u001b[32m--> \u001b[39m\u001b[32m785\u001b[39m \u001b[38;5;28mself\u001b[39m.trainer = \u001b[43m(\u001b[49m\u001b[43mtrainer\u001b[49m\u001b[43m \u001b[49m\u001b[38;5;129;43;01mor\u001b[39;49;00m\u001b[43m \u001b[49m\u001b[38;5;28;43mself\u001b[39;49m\u001b[43m.\u001b[49m\u001b[43m_smart_load\u001b[49m\u001b[43m(\u001b[49m\u001b[33;43m\"\u001b[39;49m\u001b[33;43mtrainer\u001b[39;49m\u001b[33;43m\"\u001b[39;49m\u001b[43m)\u001b[49m\u001b[43m)\u001b[49m\u001b[43m(\u001b[49m\u001b[43moverrides\u001b[49m\u001b[43m=\u001b[49m\u001b[43margs\u001b[49m\u001b[43m,\u001b[49m\u001b[43m \u001b[49m\u001b[43m_callbacks\u001b[49m\u001b[43m=\u001b[49m\u001b[38;5;28;43mself\u001b[39;49m\u001b[43m.\u001b[49m\u001b[43mcallbacks\u001b[49m\u001b[43m)\u001b[49m\n\u001b[32m    786\u001b[39m \u001b[38;5;28;01mif\u001b[39;00m \u001b[38;5;129;01mnot\u001b[39;00m args.get(\u001b[33m\"\u001b[39m\u001b[33mresume\u001b[39m\u001b[33m\"\u001b[39m):  \u001b[38;5;66;03m# manually set model only if not resuming\u001b[39;00m\n\u001b[32m    787\u001b[39m     \u001b[38;5;28mself\u001b[39m.trainer.model = \u001b[38;5;28mself\u001b[39m.trainer.get_model(weights=\u001b[38;5;28mself\u001b[39m.model \u001b[38;5;28;01mif\u001b[39;00m \u001b[38;5;28mself\u001b[39m.ckpt \u001b[38;5;28;01melse\u001b[39;00m \u001b[38;5;28;01mNone\u001b[39;00m, cfg=\u001b[38;5;28mself\u001b[39m.model.yaml)\n",
      "\u001b[36mFile \u001b[39m\u001b[32m~/PROJECTS/credit_cards_detection/.venv/lib/python3.11/site-packages/ultralytics/engine/trainer.py:137\u001b[39m, in \u001b[36mBaseTrainer.__init__\u001b[39m\u001b[34m(self, cfg, overrides, _callbacks)\u001b[39m\n\u001b[32m    135\u001b[39m \u001b[38;5;28mself\u001b[39m.model = check_model_file_from_stem(\u001b[38;5;28mself\u001b[39m.args.model)  \u001b[38;5;66;03m# add suffix, i.e. yolo11n -> yolo11n.pt\u001b[39;00m\n\u001b[32m    136\u001b[39m \u001b[38;5;28;01mwith\u001b[39;00m torch_distributed_zero_first(LOCAL_RANK):  \u001b[38;5;66;03m# avoid auto-downloading dataset multiple times\u001b[39;00m\n\u001b[32m--> \u001b[39m\u001b[32m137\u001b[39m     \u001b[38;5;28mself\u001b[39m.trainset, \u001b[38;5;28mself\u001b[39m.testset = \u001b[38;5;28;43mself\u001b[39;49m\u001b[43m.\u001b[49m\u001b[43mget_dataset\u001b[49m\u001b[43m(\u001b[49m\u001b[43m)\u001b[49m\n\u001b[32m    138\u001b[39m \u001b[38;5;28mself\u001b[39m.ema = \u001b[38;5;28;01mNone\u001b[39;00m\n\u001b[32m    140\u001b[39m \u001b[38;5;66;03m# Optimization utils init\u001b[39;00m\n",
      "\u001b[36mFile \u001b[39m\u001b[32m~/PROJECTS/credit_cards_detection/.venv/lib/python3.11/site-packages/ultralytics/engine/trainer.py:586\u001b[39m, in \u001b[36mBaseTrainer.get_dataset\u001b[39m\u001b[34m(self)\u001b[39m\n\u001b[32m    584\u001b[39m             \u001b[38;5;28mself\u001b[39m.args.data = data[\u001b[33m\"\u001b[39m\u001b[33myaml_file\u001b[39m\u001b[33m\"\u001b[39m]  \u001b[38;5;66;03m# for validating 'yolo train data=url.zip' usage\u001b[39;00m\n\u001b[32m    585\u001b[39m \u001b[38;5;28;01mexcept\u001b[39;00m \u001b[38;5;167;01mException\u001b[39;00m \u001b[38;5;28;01mas\u001b[39;00m e:\n\u001b[32m--> \u001b[39m\u001b[32m586\u001b[39m     \u001b[38;5;28;01mraise\u001b[39;00m \u001b[38;5;167;01mRuntimeError\u001b[39;00m(emojis(\u001b[33mf\u001b[39m\u001b[33m\"\u001b[39m\u001b[33mDataset \u001b[39m\u001b[33m'\u001b[39m\u001b[38;5;132;01m{\u001b[39;00mclean_url(\u001b[38;5;28mself\u001b[39m.args.data)\u001b[38;5;132;01m}\u001b[39;00m\u001b[33m'\u001b[39m\u001b[33m error ❌ \u001b[39m\u001b[38;5;132;01m{\u001b[39;00me\u001b[38;5;132;01m}\u001b[39;00m\u001b[33m\"\u001b[39m)) \u001b[38;5;28;01mfrom\u001b[39;00m\u001b[38;5;250m \u001b[39m\u001b[34;01me\u001b[39;00m\n\u001b[32m    587\u001b[39m \u001b[38;5;28mself\u001b[39m.data = data\n\u001b[32m    588\u001b[39m \u001b[38;5;28;01mif\u001b[39;00m \u001b[38;5;28mself\u001b[39m.args.single_cls:\n",
      "\u001b[31mRuntimeError\u001b[39m: Dataset '/home/lastinm/PROJECTS/DATA/digits_yolo_format/data.yaml' error ❌ '/home/lastinm/PROJECTS/DATA/digits_yolo_format/data.yaml' does not exist"
     ]
    }
   ],
   "source": [
    "# Загрузка предобученной модели\n",
    "model = YOLO('yolov8s.pt')  # small-версия\n",
    "\n",
    "# Обучение\n",
    "results = model.train(\n",
    "    data='/home/lastinm/PROJECTS/DATA/digits_yolo_format/data.yaml',\n",
    "    epochs=100,\n",
    "    imgsz=640,  # Модель сама сделает ресайз с сохранением пропорций\n",
    "    batch=32,\n",
    "    augment=True,  # Автоматическая аугментация\n",
    "    hsv_h=0.1,  # Цветовые искажения\n",
    "    hsv_s=0.7,\n",
    "    hsv_v=0.4,\n",
    "    translate=0.2,  # Сдвиги\n",
    "    scale=0.5,      # Масштабирование\n",
    "    fliplr=0.5,     # Горизонтальное отражение\n",
    "    mosaic=1.0,      # Мозаика (особенно полезно для мелких объектов)\n",
    "#    rect=True,     # Прямоугольное обучение (оптимизирует память)\n",
    "    device='0'     # GPU\n",
    ")"
   ]
  },
  {
   "cell_type": "markdown",
   "id": "b28bb74a",
   "metadata": {},
   "source": [
    "# Inference модели"
   ]
  },
  {
   "cell_type": "code",
   "execution_count": 3,
   "id": "c45c6724",
   "metadata": {},
   "outputs": [],
   "source": [
    "from ultralytics import YOLO\n",
    "import cv2\n",
    "import supervision as sv"
   ]
  },
  {
   "cell_type": "code",
   "execution_count": null,
   "id": "de9f36fa",
   "metadata": {},
   "outputs": [],
   "source": [
    "image_path = \"artefacts/2_0.93_AgACAgIAAxkBAAICb2gDc1odBGUeYrwLDCqbVKbzKukKAALx7jEb9jsYSCYoYdOUlI6-AQADAgADeAADNgQ.jpeg\""
   ]
  },
  {
   "cell_type": "code",
   "execution_count": 9,
   "id": "4730e281",
   "metadata": {},
   "outputs": [
    {
     "data": {
      "text/plain": [
       "<Figure size 1200x1200 with 1 Axes>"
      ]
     },
     "metadata": {},
     "output_type": "display_data"
    }
   ],
   "source": [
    "model = YOLO('/home/lastinm/PROJECTS/credit_cards_detection/notebooks/runs/detect/train3/weights/best.pt')\n",
    "image = cv2.imread(image_path)\n",
    "\n",
    "results = model(image, verbose=False)[0]\n",
    "detections = sv.Detections.from_ultralytics(results).with_nms()\n",
    "\n",
    "box_annotator = sv.BoxAnnotator()\n",
    "label_annotator = sv.LabelAnnotator()\n",
    "\n",
    "annotated_image = image.copy()\n",
    "annotated_image = box_annotator.annotate(scene=annotated_image, detections=detections)\n",
    "annotated_image = label_annotator.annotate(scene=annotated_image, detections=detections)\n",
    "\n",
    "sv.plot_image(annotated_image)"
   ]
  }
 ],
 "metadata": {
  "kernelspec": {
   "display_name": ".venv",
   "language": "python",
   "name": "python3"
  },
  "language_info": {
   "codemirror_mode": {
    "name": "ipython",
    "version": 3
   },
   "file_extension": ".py",
   "mimetype": "text/x-python",
   "name": "python",
   "nbconvert_exporter": "python",
   "pygments_lexer": "ipython3",
   "version": "3.11.12"
  }
 },
 "nbformat": 4,
 "nbformat_minor": 5
}
