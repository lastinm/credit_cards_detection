{
 "cells": [
  {
   "cell_type": "code",
   "execution_count": 22,
   "id": "9a1bd11a",
   "metadata": {},
   "outputs": [],
   "source": [
    "import os\n",
    "from ultralytics import YOLO\n",
    "import matplotlib.pyplot as plt\n",
    "from PIL import Image\n",
    "import numpy as np\n",
    "import torch"
   ]
  },
  {
   "cell_type": "code",
   "execution_count": 16,
   "id": "847774ec",
   "metadata": {},
   "outputs": [],
   "source": [
    "# Конфигурация\n",
    "MODEL_PATH = '/home/lastinm/PROJECTS/credit_cards_detection/train/YOLOv12/runs/detect/train2/weights/best.pt'  # Путь к модели\n",
    "TEST_DATA_DIR = '/home/lastinm/PROJECTS/credit_cards_detection/dataset/yolo/test/images'  # Папка с тестовыми изображениями\n",
    "DATASET_YAML = '/home/lastinm/PROJECTS/credit_cards_detection/dataset/yolo/data.yaml'\n",
    "RESULTS_DIR = 'results'  # Папка для сохранения результатов\n",
    "CONF_THRESH = 0.5  # Порог уверенности для детекции\n",
    "IOU_THRESH = 0.5  # Порог IoU для NMS"
   ]
  },
  {
   "cell_type": "code",
   "execution_count": 23,
   "id": "7b9050c4",
   "metadata": {},
   "outputs": [
    {
     "name": "stdout",
     "output_type": "stream",
     "text": [
      "Ultralytics 8.3.111 🚀 Python-3.11.12 torch-2.6.0+cu124 CUDA:0 (NVIDIA GeForce RTX 4070, 11875MiB)\n",
      "\u001b[34m\u001b[1mval: \u001b[0mFast image access ✅ (ping: 0.0±0.0 ms, read: 6129.2±644.2 MB/s, size: 153.6 KB)\n"
     ]
    },
    {
     "name": "stderr",
     "output_type": "stream",
     "text": [
      "\u001b[34m\u001b[1mval: \u001b[0mScanning /home/lastinm/PROJECTS/credit_cards_detection/dataset/yolo/valid/labels.cache... 50 images, 0 backgrounds, 0 corrupt: 100%|██████████| 50/50 [00:00<?, ?it/s]\n",
      "                 Class     Images  Instances      Box(P          R      mAP50  mAP50-95): 100%|██████████| 7/7 [00:00<00:00, 12.14it/s]\n"
     ]
    },
    {
     "name": "stdout",
     "output_type": "stream",
     "text": [
      "                   all         50        140      0.998      0.987       0.99      0.929\n",
      "            CardHolder         41         41          1          1      0.995      0.912\n",
      "            CardNumber         50         50      0.993       0.96      0.979      0.946\n",
      "           DateExpired         49         49          1          1      0.995       0.93\n",
      "Speed: 1.5ms preprocess, 2.2ms inference, 0.0ms loss, 3.6ms postprocess per image\n",
      "Results saved to \u001b[1mruns/detect/val9\u001b[0m\n",
      "\n",
      "Результаты оценки:\n",
      "mAP@0.5: 0.9293\n",
      "mAP@0.5-0.95: 0.9898\n",
      "Precision: 0.9976\n",
      "Recall: 0.9867\n"
     ]
    }
   ],
   "source": [
    "def evaluate_yolov12():\n",
    "    # 1. Создание папки для результатов\n",
    "    os.makedirs(RESULTS_DIR, exist_ok=True)\n",
    "    \n",
    "    # 2. Проверка существования тестовых данных\n",
    "    if not os.path.exists(TEST_DATA_DIR):\n",
    "        raise FileNotFoundError(f\"Директория с тестовыми изображениями не найдена: {TEST_DATA_DIR}\")\n",
    "    \n",
    "    # 3. Загрузка модели\n",
    "    if not os.path.exists(MODEL_PATH):\n",
    "        raise FileNotFoundError(f\"Файл модели не найден: {MODEL_PATH}\")\n",
    "    \n",
    "    model = YOLO(MODEL_PATH)\n",
    "    \n",
    "    # 4. Получение списка изображений\n",
    "    test_images = [os.path.join(TEST_DATA_DIR, f) for f in os.listdir(TEST_DATA_DIR) \n",
    "                  if f.lower().endswith(('.jpg', '.png', '.jpeg'))]\n",
    "    \n",
    "    if not test_images:\n",
    "        raise ValueError(f\"В директории {TEST_DATA_DIR} не найдены изображения (.jpg/.png)\")\n",
    "    \n",
    "    # 5. Обработка изображений\n",
    "    for img_path in test_images:\n",
    "        try:\n",
    "            pred = model.predict(img_path, conf=CONF_THRESH, iou=IOU_THRESH, verbose=False)\n",
    "            if pred and len(pred) > 0:\n",
    "                pred_img = pred[0].plot()\n",
    "                output_path = os.path.join(RESULTS_DIR, os.path.basename(img_path))\n",
    "                Image.fromarray(pred_img[..., ::-1]).save(output_path)\n",
    "        except Exception as e:\n",
    "            print(f\"Ошибка при обработке {img_path}: {str(e)}\")\n",
    "    \n",
    "    # 6. Оценка метрик (исправленная версия)\n",
    "    if os.path.exists(DATASET_YAML):\n",
    "        metrics = model.val(\n",
    "            data=DATASET_YAML,\n",
    "            batch=8,\n",
    "            imgsz=640,\n",
    "            conf=CONF_THRESH,\n",
    "            iou=IOU_THRESH,\n",
    "            device='cuda' if torch.cuda.is_available() else 'cpu'\n",
    "        )\n",
    "        \n",
    "        # Новый способ получения метрик\n",
    "        print(\"\\nРезультаты оценки:\")\n",
    "        print(f\"mAP@0.5: {metrics.box.map:.4f}\")\n",
    "        print(f\"mAP@0.5-0.95: {metrics.box.map75:.4f}\")\n",
    "\n",
    "        # Визуализация кривых\n",
    "        import matplotlib.pyplot as plt\n",
    "        plt.figure(figsize=(10, 6))\n",
    "        for i, (precision, recall) in enumerate(zip(metrics.box.p, metrics.box.r)):\n",
    "            plt.plot(recall, precision, label=f'Class {i} ({model.names[i]})')\n",
    "        plt.xlabel('Recall')\n",
    "        plt.ylabel('Precision')\n",
    "        plt.title('Precision-Recall Curve')\n",
    "        plt.legend()\n",
    "        plt.savefig(os.path.join(RESULTS_DIR, 'PR_curve.png'))\n",
    "        plt.close()\n",
    "    \n",
    "    # Для precision и recall используем средние значения по классам\n",
    "    if hasattr(metrics.box, 'p'):\n",
    "        print(f\"Precision: {sum(metrics.box.p)/len(metrics.box.p):.4f}\")\n",
    "    if hasattr(metrics.box, 'r'):\n",
    "        print(f\"Recall: {sum(metrics.box.r)/len(metrics.box.r):.4f}\")\n",
    "        \n",
    "        # Сохранение метрик\n",
    "        with open(os.path.join(RESULTS_DIR, 'metrics.txt'), 'w') as f:\n",
    "            f.write(f\"mAP@0.5: {metrics.box.map:.4f}\\n\")\n",
    "            f.write(f\"mAP@0.5-0.95: {metrics.box.map75:.4f}\\n\")\n",
    "            if hasattr(metrics.box, 'p'):\n",
    "                f.write(f\"Precision: {sum(metrics.box.p)/len(metrics.box.p):.4f}\\n\")\n",
    "            if hasattr(metrics.box, 'r'):\n",
    "                f.write(f\"Recall: {sum(metrics.box.r)/len(metrics.box.r):.4f}\\n\")\n",
    "    else:\n",
    "        print(f\"Файл {DATASET_YAML} не найден. Расчет метрик пропущен.\")\n",
    "\n",
    "# if __name__ == \"__main__\":\n",
    "evaluate_yolov12()"
   ]
  }
 ],
 "metadata": {
  "kernelspec": {
   "display_name": ".venv",
   "language": "python",
   "name": "python3"
  },
  "language_info": {
   "codemirror_mode": {
    "name": "ipython",
    "version": 3
   },
   "file_extension": ".py",
   "mimetype": "text/x-python",
   "name": "python",
   "nbconvert_exporter": "python",
   "pygments_lexer": "ipython3",
   "version": "3.11.12"
  }
 },
 "nbformat": 4,
 "nbformat_minor": 5
}
